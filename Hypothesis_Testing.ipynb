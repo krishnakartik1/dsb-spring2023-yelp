{
  "nbformat": 4,
  "nbformat_minor": 0,
  "metadata": {
    "colab": {
      "provenance": []
    },
    "kernelspec": {
      "name": "python3",
      "display_name": "Python 3"
    },
    "language_info": {
      "name": "python"
    }
  },
  "cells": [
    {
      "cell_type": "code",
      "execution_count": null,
      "metadata": {
        "id": "52StZkI5hlWp"
      },
      "outputs": [],
      "source": [
        "# Importing libraries to collect and import data:\n",
        "import json \n",
        "import requests \n",
        "import pickle\n",
        "\n",
        "# Importing libraries to work with/explore data:\n",
        "import pandas as pd\n",
        "import numpy as np\n",
        "import datetime, time\n",
        "from sklearn import preprocessing\n",
        "\n",
        "# Importing libraries to create visualizations:\n",
        "import matplotlib.pyplot as plt\n",
        "%matplotlib inline\n",
        "import seaborn as sns\n",
        "import folium\n",
        "import matplotlib.patches as mpatches\n",
        "import matplotlib.pyplot as plt\n",
        "# import itertools\n",
        "import warnings\n",
        "from sklearn.model_selection import train_test_split\n",
        "from sklearn.metrics import accuracy_score, confusion_matrix, f1_score, classification_report\n",
        "from sklearn.linear_model import LogisticRegression\n",
        "from sklearn.tree import DecisionTreeClassifier \n",
        "from sklearn.model_selection import GridSearchCV\n",
        "from sklearn.ensemble import RandomForestClassifier\n",
        "from sklearn.ensemble import AdaBoostClassifier\n",
        "from xgboost import XGBClassifier\n",
        "warnings.filterwarnings('ignore')"
      ]
    },
    {
      "cell_type": "code",
      "source": [
        "with open ('scrubbed_data_yelp_inspec.pickle','rb') as f:\n",
        "    df_merged = pickle.load(f)\n",
        "\n",
        "print(len(df_merged))\n",
        "df_merged.head()"
      ],
      "metadata": {
        "colab": {
          "base_uri": "https://localhost:8080/",
          "height": 756
        },
        "id": "D8EE-F6MhoyH",
        "outputId": "cfa7501b-1547-43d6-db55-f0d466289d38"
      },
      "execution_count": null,
      "outputs": [
        {
          "output_type": "stream",
          "name": "stdout",
          "text": [
            "3174\n"
          ]
        },
        {
          "output_type": "execute_result",
          "data": {
            "text/plain": [
              "      CAMIS                     DBA       BORO BUILDING            STREET  \\\n",
              "0  50122550      & CAFE COFFEE SHOP  Manhattan      222  EAST   51 STREET   \n",
              "1  50126158         & SON STEAKEASY  Manhattan       62  WEST    9 STREET   \n",
              "2  41430594       1 STOP PATTY SHOP  Manhattan     1708  AMSTERDAM AVENUE   \n",
              "3  50059935  108 FOOD DRIED HOT POT  Manhattan     2794          BROADWAY   \n",
              "4  41092609    10TH AVENUE COOKSHOP  Manhattan      156         10 AVENUE   \n",
              "\n",
              "   ZIPCODE   display_phone       CUISINE DESCRIPTION INSPECTION DATE  \\\n",
              "0  10022.0  (908) 590-3763                Coffee/Tea      2023-01-03   \n",
              "1  10011.0  (212) 933-1193                  American      2023-02-04   \n",
              "2  10031.0  (212) 491-7466  Bakery Products/Desserts      2022-10-20   \n",
              "3  10025.0  (917) 675-6878                   Chinese      2022-05-17   \n",
              "4  10011.0  (212) 924-4440                  American      2022-04-11   \n",
              "\n",
              "                                            ACTION  ... wine_bars  \\\n",
              "0  Violations were cited in the following area(s).  ...         0   \n",
              "1  Violations were cited in the following area(s).  ...         1   \n",
              "2  Violations were cited in the following area(s).  ...         0   \n",
              "3  Violations were cited in the following area(s).  ...         0   \n",
              "4  Violations were cited in the following area(s).  ...         0   \n",
              "\n",
              "   womenscloth wraps delivery pickup  restaurant_reservation  num_of_cat  \\\n",
              "0            0     0        0      0                       0           3   \n",
              "1            0     0        0      0                       0           3   \n",
              "2            0     0        1      0                       0           2   \n",
              "3            0     0        1      1                       0           2   \n",
              "4            0     0        1      1                       0           2   \n",
              "\n",
              "   mainstream_category rare_category price_value  \n",
              "0                    1             0         0.0  \n",
              "1                    1             0         0.0  \n",
              "2                    1             0         1.0  \n",
              "3                    1             0         2.0  \n",
              "4                    1             0         2.0  \n",
              "\n",
              "[5 rows x 293 columns]"
            ],
            "text/html": [
              "\n",
              "  <div id=\"df-71aad181-fe15-48e4-a2d9-9366283ec8ae\">\n",
              "    <div class=\"colab-df-container\">\n",
              "      <div>\n",
              "<style scoped>\n",
              "    .dataframe tbody tr th:only-of-type {\n",
              "        vertical-align: middle;\n",
              "    }\n",
              "\n",
              "    .dataframe tbody tr th {\n",
              "        vertical-align: top;\n",
              "    }\n",
              "\n",
              "    .dataframe thead th {\n",
              "        text-align: right;\n",
              "    }\n",
              "</style>\n",
              "<table border=\"1\" class=\"dataframe\">\n",
              "  <thead>\n",
              "    <tr style=\"text-align: right;\">\n",
              "      <th></th>\n",
              "      <th>CAMIS</th>\n",
              "      <th>DBA</th>\n",
              "      <th>BORO</th>\n",
              "      <th>BUILDING</th>\n",
              "      <th>STREET</th>\n",
              "      <th>ZIPCODE</th>\n",
              "      <th>display_phone</th>\n",
              "      <th>CUISINE DESCRIPTION</th>\n",
              "      <th>INSPECTION DATE</th>\n",
              "      <th>ACTION</th>\n",
              "      <th>...</th>\n",
              "      <th>wine_bars</th>\n",
              "      <th>womenscloth</th>\n",
              "      <th>wraps</th>\n",
              "      <th>delivery</th>\n",
              "      <th>pickup</th>\n",
              "      <th>restaurant_reservation</th>\n",
              "      <th>num_of_cat</th>\n",
              "      <th>mainstream_category</th>\n",
              "      <th>rare_category</th>\n",
              "      <th>price_value</th>\n",
              "    </tr>\n",
              "  </thead>\n",
              "  <tbody>\n",
              "    <tr>\n",
              "      <th>0</th>\n",
              "      <td>50122550</td>\n",
              "      <td>&amp; CAFE COFFEE SHOP</td>\n",
              "      <td>Manhattan</td>\n",
              "      <td>222</td>\n",
              "      <td>EAST   51 STREET</td>\n",
              "      <td>10022.0</td>\n",
              "      <td>(908) 590-3763</td>\n",
              "      <td>Coffee/Tea</td>\n",
              "      <td>2023-01-03</td>\n",
              "      <td>Violations were cited in the following area(s).</td>\n",
              "      <td>...</td>\n",
              "      <td>0</td>\n",
              "      <td>0</td>\n",
              "      <td>0</td>\n",
              "      <td>0</td>\n",
              "      <td>0</td>\n",
              "      <td>0</td>\n",
              "      <td>3</td>\n",
              "      <td>1</td>\n",
              "      <td>0</td>\n",
              "      <td>0.0</td>\n",
              "    </tr>\n",
              "    <tr>\n",
              "      <th>1</th>\n",
              "      <td>50126158</td>\n",
              "      <td>&amp; SON STEAKEASY</td>\n",
              "      <td>Manhattan</td>\n",
              "      <td>62</td>\n",
              "      <td>WEST    9 STREET</td>\n",
              "      <td>10011.0</td>\n",
              "      <td>(212) 933-1193</td>\n",
              "      <td>American</td>\n",
              "      <td>2023-02-04</td>\n",
              "      <td>Violations were cited in the following area(s).</td>\n",
              "      <td>...</td>\n",
              "      <td>1</td>\n",
              "      <td>0</td>\n",
              "      <td>0</td>\n",
              "      <td>0</td>\n",
              "      <td>0</td>\n",
              "      <td>0</td>\n",
              "      <td>3</td>\n",
              "      <td>1</td>\n",
              "      <td>0</td>\n",
              "      <td>0.0</td>\n",
              "    </tr>\n",
              "    <tr>\n",
              "      <th>2</th>\n",
              "      <td>41430594</td>\n",
              "      <td>1 STOP PATTY SHOP</td>\n",
              "      <td>Manhattan</td>\n",
              "      <td>1708</td>\n",
              "      <td>AMSTERDAM AVENUE</td>\n",
              "      <td>10031.0</td>\n",
              "      <td>(212) 491-7466</td>\n",
              "      <td>Bakery Products/Desserts</td>\n",
              "      <td>2022-10-20</td>\n",
              "      <td>Violations were cited in the following area(s).</td>\n",
              "      <td>...</td>\n",
              "      <td>0</td>\n",
              "      <td>0</td>\n",
              "      <td>0</td>\n",
              "      <td>1</td>\n",
              "      <td>0</td>\n",
              "      <td>0</td>\n",
              "      <td>2</td>\n",
              "      <td>1</td>\n",
              "      <td>0</td>\n",
              "      <td>1.0</td>\n",
              "    </tr>\n",
              "    <tr>\n",
              "      <th>3</th>\n",
              "      <td>50059935</td>\n",
              "      <td>108 FOOD DRIED HOT POT</td>\n",
              "      <td>Manhattan</td>\n",
              "      <td>2794</td>\n",
              "      <td>BROADWAY</td>\n",
              "      <td>10025.0</td>\n",
              "      <td>(917) 675-6878</td>\n",
              "      <td>Chinese</td>\n",
              "      <td>2022-05-17</td>\n",
              "      <td>Violations were cited in the following area(s).</td>\n",
              "      <td>...</td>\n",
              "      <td>0</td>\n",
              "      <td>0</td>\n",
              "      <td>0</td>\n",
              "      <td>1</td>\n",
              "      <td>1</td>\n",
              "      <td>0</td>\n",
              "      <td>2</td>\n",
              "      <td>1</td>\n",
              "      <td>0</td>\n",
              "      <td>2.0</td>\n",
              "    </tr>\n",
              "    <tr>\n",
              "      <th>4</th>\n",
              "      <td>41092609</td>\n",
              "      <td>10TH AVENUE COOKSHOP</td>\n",
              "      <td>Manhattan</td>\n",
              "      <td>156</td>\n",
              "      <td>10 AVENUE</td>\n",
              "      <td>10011.0</td>\n",
              "      <td>(212) 924-4440</td>\n",
              "      <td>American</td>\n",
              "      <td>2022-04-11</td>\n",
              "      <td>Violations were cited in the following area(s).</td>\n",
              "      <td>...</td>\n",
              "      <td>0</td>\n",
              "      <td>0</td>\n",
              "      <td>0</td>\n",
              "      <td>1</td>\n",
              "      <td>1</td>\n",
              "      <td>0</td>\n",
              "      <td>2</td>\n",
              "      <td>1</td>\n",
              "      <td>0</td>\n",
              "      <td>2.0</td>\n",
              "    </tr>\n",
              "  </tbody>\n",
              "</table>\n",
              "<p>5 rows × 293 columns</p>\n",
              "</div>\n",
              "      <button class=\"colab-df-convert\" onclick=\"convertToInteractive('df-71aad181-fe15-48e4-a2d9-9366283ec8ae')\"\n",
              "              title=\"Convert this dataframe to an interactive table.\"\n",
              "              style=\"display:none;\">\n",
              "        \n",
              "  <svg xmlns=\"http://www.w3.org/2000/svg\" height=\"24px\"viewBox=\"0 0 24 24\"\n",
              "       width=\"24px\">\n",
              "    <path d=\"M0 0h24v24H0V0z\" fill=\"none\"/>\n",
              "    <path d=\"M18.56 5.44l.94 2.06.94-2.06 2.06-.94-2.06-.94-.94-2.06-.94 2.06-2.06.94zm-11 1L8.5 8.5l.94-2.06 2.06-.94-2.06-.94L8.5 2.5l-.94 2.06-2.06.94zm10 10l.94 2.06.94-2.06 2.06-.94-2.06-.94-.94-2.06-.94 2.06-2.06.94z\"/><path d=\"M17.41 7.96l-1.37-1.37c-.4-.4-.92-.59-1.43-.59-.52 0-1.04.2-1.43.59L10.3 9.45l-7.72 7.72c-.78.78-.78 2.05 0 2.83L4 21.41c.39.39.9.59 1.41.59.51 0 1.02-.2 1.41-.59l7.78-7.78 2.81-2.81c.8-.78.8-2.07 0-2.86zM5.41 20L4 18.59l7.72-7.72 1.47 1.35L5.41 20z\"/>\n",
              "  </svg>\n",
              "      </button>\n",
              "      \n",
              "  <style>\n",
              "    .colab-df-container {\n",
              "      display:flex;\n",
              "      flex-wrap:wrap;\n",
              "      gap: 12px;\n",
              "    }\n",
              "\n",
              "    .colab-df-convert {\n",
              "      background-color: #E8F0FE;\n",
              "      border: none;\n",
              "      border-radius: 50%;\n",
              "      cursor: pointer;\n",
              "      display: none;\n",
              "      fill: #1967D2;\n",
              "      height: 32px;\n",
              "      padding: 0 0 0 0;\n",
              "      width: 32px;\n",
              "    }\n",
              "\n",
              "    .colab-df-convert:hover {\n",
              "      background-color: #E2EBFA;\n",
              "      box-shadow: 0px 1px 2px rgba(60, 64, 67, 0.3), 0px 1px 3px 1px rgba(60, 64, 67, 0.15);\n",
              "      fill: #174EA6;\n",
              "    }\n",
              "\n",
              "    [theme=dark] .colab-df-convert {\n",
              "      background-color: #3B4455;\n",
              "      fill: #D2E3FC;\n",
              "    }\n",
              "\n",
              "    [theme=dark] .colab-df-convert:hover {\n",
              "      background-color: #434B5C;\n",
              "      box-shadow: 0px 1px 3px 1px rgba(0, 0, 0, 0.15);\n",
              "      filter: drop-shadow(0px 1px 2px rgba(0, 0, 0, 0.3));\n",
              "      fill: #FFFFFF;\n",
              "    }\n",
              "  </style>\n",
              "\n",
              "      <script>\n",
              "        const buttonEl =\n",
              "          document.querySelector('#df-71aad181-fe15-48e4-a2d9-9366283ec8ae button.colab-df-convert');\n",
              "        buttonEl.style.display =\n",
              "          google.colab.kernel.accessAllowed ? 'block' : 'none';\n",
              "\n",
              "        async function convertToInteractive(key) {\n",
              "          const element = document.querySelector('#df-71aad181-fe15-48e4-a2d9-9366283ec8ae');\n",
              "          const dataTable =\n",
              "            await google.colab.kernel.invokeFunction('convertToInteractive',\n",
              "                                                     [key], {});\n",
              "          if (!dataTable) return;\n",
              "\n",
              "          const docLinkHtml = 'Like what you see? Visit the ' +\n",
              "            '<a target=\"_blank\" href=https://colab.research.google.com/notebooks/data_table.ipynb>data table notebook</a>'\n",
              "            + ' to learn more about interactive tables.';\n",
              "          element.innerHTML = '';\n",
              "          dataTable['output_type'] = 'display_data';\n",
              "          await google.colab.output.renderOutput(dataTable, element);\n",
              "          const docLink = document.createElement('div');\n",
              "          docLink.innerHTML = docLinkHtml;\n",
              "          element.appendChild(docLink);\n",
              "        }\n",
              "      </script>\n",
              "    </div>\n",
              "  </div>\n",
              "  "
            ]
          },
          "metadata": {},
          "execution_count": 2
        }
      ]
    },
    {
      "cell_type": "code",
      "source": [
        "for i in df_merged.columns:\n",
        "  print(i)"
      ],
      "metadata": {
        "id": "vOfefmiZhylU"
      },
      "execution_count": null,
      "outputs": []
    },
    {
      "cell_type": "code",
      "source": [
        "def plot_grades(df, title):\n",
        "    # Plot a histogram\n",
        "    plt.figure(figsize=(20, 8))\n",
        "    plt.hist(df['SCORE'], bins=range(int(min(df['SCORE'])), int(max(df['SCORE']))+1))\n",
        "    # Add lines to indicate the cutoffs between A and B, then B and C\n",
        "    plt.axvline(x=14, color=\"red\")\n",
        "    plt.axvline(x=28, color=\"red\")\n",
        "    # Add some labels\n",
        "    plt.ylabel(\"# of Inspections\")\n",
        "    plt.xlabel(\"Inspection Score\")\n",
        "    plt.title(\"Frequency of NYC Restaurant Inspection Scores \\n{}\".format(title))\n",
        "    return\n",
        "    \n",
        "plot_grades(df_merged, \"Original Data\")"
      ],
      "metadata": {
        "colab": {
          "base_uri": "https://localhost:8080/",
          "height": 417
        },
        "id": "2ZDPSNP2jIV2",
        "outputId": "9c9d2cff-bb0f-4575-ccab-c52b16a1bb28"
      },
      "execution_count": null,
      "outputs": [
        {
          "output_type": "display_data",
          "data": {
            "text/plain": [
              "<Figure size 2000x800 with 1 Axes>"
            ],
            "image/png": "[encoded data removed]"
          },
          "metadata": {}
        }
      ]
    },
    {
      "cell_type": "code",
      "source": [
        "df_merged.SCORE.describe()"
      ],
      "metadata": {
        "colab": {
          "base_uri": "https://localhost:8080/"
        },
        "id": "XVjC8txgqWVI",
        "outputId": "f4a4d85e-b45e-44dd-ad68-3eda4e1c0776"
      },
      "execution_count": null,
      "outputs": [
        {
          "output_type": "execute_result",
          "data": {
            "text/plain": [
              "count    3174.000000\n",
              "mean       14.238815\n",
              "std        10.941799\n",
              "min         0.000000\n",
              "25%         9.000000\n",
              "50%        12.000000\n",
              "75%        14.000000\n",
              "max        98.000000\n",
              "Name: SCORE, dtype: float64"
            ]
          },
          "metadata": {},
          "execution_count": 5
        }
      ]
    },
    {
      "cell_type": "code",
      "source": [
        "df_merged.ZIPCODE.value_counts()"
      ],
      "metadata": {
        "id": "rgcdn_Vpqvvq"
      },
      "execution_count": null,
      "outputs": []
    },
    {
      "cell_type": "code",
      "source": [
        "df_merged[\"GRADE\"].value_counts()"
      ],
      "metadata": {
        "colab": {
          "base_uri": "https://localhost:8080/"
        },
        "id": "WkoS1_PYtFhm",
        "outputId": "2a34383e-bc52-47d7-fc95-23ad644f8fb8"
      },
      "execution_count": null,
      "outputs": [
        {
          "output_type": "execute_result",
          "data": {
            "text/plain": [
              "5                                                                                                                                     2195\n",
              "1                                                                                                                                      797\n",
              "4                                                                                                                                      137\n",
              "3                                                                                                                                       39\n",
              "Establishment re-opened by DOHMH.                                                                                                        5\n",
              "Establishment Closed by DOHMH. Violations were cited in the following area(s) and those requiring immediate action were addressed.       1\n",
              "Name: GRADE, dtype: int64"
            ]
          },
          "metadata": {},
          "execution_count": 7
        }
      ]
    },
    {
      "cell_type": "markdown",
      "source": [
        "Next, let's look at the relationship between grades and scores, and see if it matches what we found on the Department of Health website. As a reminder, the cutoffs should be:\n",
        "\n",
        "- A (5): 0-13\n",
        "- B (4): 14-27\n",
        "- C (3): 28+"
      ],
      "metadata": {
        "id": "cgqygvoeuSmM"
      }
    },
    {
      "cell_type": "code",
      "source": [
        "df_merged.groupby([\"GRADE\"]).agg({'SCORE': [np.min,np.max]})"
      ],
      "metadata": {
        "colab": {
          "base_uri": "https://localhost:8080/",
          "height": 358
        },
        "id": "WBibXc46rJN7",
        "outputId": "722b2402-4c98-4ca6-f782-93aa8693c6ce"
      },
      "execution_count": null,
      "outputs": [
        {
          "output_type": "execute_result",
          "data": {
            "text/plain": [
              "                                                   SCORE      \n",
              "                                                    amin  amax\n",
              "GRADE                                                         \n",
              "1                                                    0.0  86.0\n",
              "3                                                    0.0  71.0\n",
              "4                                                    9.0  36.0\n",
              "5                                                    0.0  13.0\n",
              "Establishment Closed by DOHMH. Violations were ...  98.0  98.0\n",
              "Establishment re-opened by DOHMH.                    0.0  10.0"
            ],
            "text/html": [
              "\n",
              "  <div id=\"df-cc5e8065-17a6-4d1f-867b-04cce5a22cc8\">\n",
              "    <div class=\"colab-df-container\">\n",
              "      <div>\n",
              "<style scoped>\n",
              "    .dataframe tbody tr th:only-of-type {\n",
              "        vertical-align: middle;\n",
              "    }\n",
              "\n",
              "    .dataframe tbody tr th {\n",
              "        vertical-align: top;\n",
              "    }\n",
              "\n",
              "    .dataframe thead tr th {\n",
              "        text-align: left;\n",
              "    }\n",
              "\n",
              "    .dataframe thead tr:last-of-type th {\n",
              "        text-align: right;\n",
              "    }\n",
              "</style>\n",
              "<table border=\"1\" class=\"dataframe\">\n",
              "  <thead>\n",
              "    <tr>\n",
              "      <th></th>\n",
              "      <th colspan=\"2\" halign=\"left\">SCORE</th>\n",
              "    </tr>\n",
              "    <tr>\n",
              "      <th></th>\n",
              "      <th>amin</th>\n",
              "      <th>amax</th>\n",
              "    </tr>\n",
              "    <tr>\n",
              "      <th>GRADE</th>\n",
              "      <th></th>\n",
              "      <th></th>\n",
              "    </tr>\n",
              "  </thead>\n",
              "  <tbody>\n",
              "    <tr>\n",
              "      <th>1</th>\n",
              "      <td>0.0</td>\n",
              "      <td>86.0</td>\n",
              "    </tr>\n",
              "    <tr>\n",
              "      <th>3</th>\n",
              "      <td>0.0</td>\n",
              "      <td>71.0</td>\n",
              "    </tr>\n",
              "    <tr>\n",
              "      <th>4</th>\n",
              "      <td>9.0</td>\n",
              "      <td>36.0</td>\n",
              "    </tr>\n",
              "    <tr>\n",
              "      <th>5</th>\n",
              "      <td>0.0</td>\n",
              "      <td>13.0</td>\n",
              "    </tr>\n",
              "    <tr>\n",
              "      <th>Establishment Closed by DOHMH. Violations were cited in the following area(s) and those requiring immediate action were addressed.</th>\n",
              "      <td>98.0</td>\n",
              "      <td>98.0</td>\n",
              "    </tr>\n",
              "    <tr>\n",
              "      <th>Establishment re-opened by DOHMH.</th>\n",
              "      <td>0.0</td>\n",
              "      <td>10.0</td>\n",
              "    </tr>\n",
              "  </tbody>\n",
              "</table>\n",
              "</div>\n",
              "      <button class=\"colab-df-convert\" onclick=\"convertToInteractive('df-cc5e8065-17a6-4d1f-867b-04cce5a22cc8')\"\n",
              "              title=\"Convert this dataframe to an interactive table.\"\n",
              "              style=\"display:none;\">\n",
              "        \n",
              "  <svg xmlns=\"http://www.w3.org/2000/svg\" height=\"24px\"viewBox=\"0 0 24 24\"\n",
              "       width=\"24px\">\n",
              "    <path d=\"M0 0h24v24H0V0z\" fill=\"none\"/>\n",
              "    <path d=\"M18.56 5.44l.94 2.06.94-2.06 2.06-.94-2.06-.94-.94-2.06-.94 2.06-2.06.94zm-11 1L8.5 8.5l.94-2.06 2.06-.94-2.06-.94L8.5 2.5l-.94 2.06-2.06.94zm10 10l.94 2.06.94-2.06 2.06-.94-2.06-.94-.94-2.06-.94 2.06-2.06.94z\"/><path d=\"M17.41 7.96l-1.37-1.37c-.4-.4-.92-.59-1.43-.59-.52 0-1.04.2-1.43.59L10.3 9.45l-7.72 7.72c-.78.78-.78 2.05 0 2.83L4 21.41c.39.39.9.59 1.41.59.51 0 1.02-.2 1.41-.59l7.78-7.78 2.81-2.81c.8-.78.8-2.07 0-2.86zM5.41 20L4 18.59l7.72-7.72 1.47 1.35L5.41 20z\"/>\n",
              "  </svg>\n",
              "      </button>\n",
              "      \n",
              "  <style>\n",
              "    .colab-df-container {\n",
              "      display:flex;\n",
              "      flex-wrap:wrap;\n",
              "      gap: 12px;\n",
              "    }\n",
              "\n",
              "    .colab-df-convert {\n",
              "      background-color: #E8F0FE;\n",
              "      border: none;\n",
              "      border-radius: 50%;\n",
              "      cursor: pointer;\n",
              "      display: none;\n",
              "      fill: #1967D2;\n",
              "      height: 32px;\n",
              "      padding: 0 0 0 0;\n",
              "      width: 32px;\n",
              "    }\n",
              "\n",
              "    .colab-df-convert:hover {\n",
              "      background-color: #E2EBFA;\n",
              "      box-shadow: 0px 1px 2px rgba(60, 64, 67, 0.3), 0px 1px 3px 1px rgba(60, 64, 67, 0.15);\n",
              "      fill: #174EA6;\n",
              "    }\n",
              "\n",
              "    [theme=dark] .colab-df-convert {\n",
              "      background-color: #3B4455;\n",
              "      fill: #D2E3FC;\n",
              "    }\n",
              "\n",
              "    [theme=dark] .colab-df-convert:hover {\n",
              "      background-color: #434B5C;\n",
              "      box-shadow: 0px 1px 3px 1px rgba(0, 0, 0, 0.15);\n",
              "      filter: drop-shadow(0px 1px 2px rgba(0, 0, 0, 0.3));\n",
              "      fill: #FFFFFF;\n",
              "    }\n",
              "  </style>\n",
              "\n",
              "      <script>\n",
              "        const buttonEl =\n",
              "          document.querySelector('#df-cc5e8065-17a6-4d1f-867b-04cce5a22cc8 button.colab-df-convert');\n",
              "        buttonEl.style.display =\n",
              "          google.colab.kernel.accessAllowed ? 'block' : 'none';\n",
              "\n",
              "        async function convertToInteractive(key) {\n",
              "          const element = document.querySelector('#df-cc5e8065-17a6-4d1f-867b-04cce5a22cc8');\n",
              "          const dataTable =\n",
              "            await google.colab.kernel.invokeFunction('convertToInteractive',\n",
              "                                                     [key], {});\n",
              "          if (!dataTable) return;\n",
              "\n",
              "          const docLinkHtml = 'Like what you see? Visit the ' +\n",
              "            '<a target=\"_blank\" href=https://colab.research.google.com/notebooks/data_table.ipynb>data table notebook</a>'\n",
              "            + ' to learn more about interactive tables.';\n",
              "          element.innerHTML = '';\n",
              "          dataTable['output_type'] = 'display_data';\n",
              "          await google.colab.output.renderOutput(dataTable, element);\n",
              "          const docLink = document.createElement('div');\n",
              "          docLink.innerHTML = docLinkHtml;\n",
              "          element.appendChild(docLink);\n",
              "        }\n",
              "      </script>\n",
              "    </div>\n",
              "  </div>\n",
              "  "
            ]
          },
          "metadata": {},
          "execution_count": 8
        }
      ]
    },
    {
      "cell_type": "code",
      "source": [
        "print(\"Miscoded 5s: \", len(df_merged.loc[(df_merged.GRADE== 5) & (df_merged.SCORE > 13), ]))\n",
        "print(\"Miscoded 4s: \", len(df_merged.loc[(df_merged.GRADE== 4) & ((df_merged.SCORE < 14) | (df_merged.SCORE > 27))]))\n",
        "print(\"Miscoded 3s: \", len(df_merged.loc[(df_merged.GRADE== 3) & (df_merged.SCORE < 28), ]))\n"
      ],
      "metadata": {
        "colab": {
          "base_uri": "https://localhost:8080/"
        },
        "id": "DcRRY-e0shy_",
        "outputId": "39a9529a-f187-487b-fc9b-3d0a9a805e32"
      },
      "execution_count": null,
      "outputs": [
        {
          "output_type": "stream",
          "name": "stdout",
          "text": [
            "Miscoded 5s:  0\n",
            "Miscoded 4s:  3\n",
            "Miscoded 3s:  1\n"
          ]
        }
      ]
    },
    {
      "cell_type": "code",
      "source": [
        "df_merged.loc[(df_merged.GRADE== 4) & ((df_merged.SCORE < 14) | (df_merged.SCORE > 27))]"
      ],
      "metadata": {
        "colab": {
          "base_uri": "https://localhost:8080/",
          "height": 507
        },
        "id": "1Po2JG38wTWY",
        "outputId": "d6d5be2e-baa8-4fc1-826e-8ee7f93a0aa8"
      },
      "execution_count": null,
      "outputs": [
        {
          "output_type": "execute_result",
          "data": {
            "text/plain": [
              "         CAMIS                    DBA       BORO BUILDING            STREET  \\\n",
              "275   50074726           BEETLE HOUSE  Manhattan      308  EAST    6 STREET   \n",
              "1500  50091908      KRUA THAI KITCHEN  Manhattan     1764          1 AVENUE   \n",
              "3150  40983698  YUCA BAR & RESTAURANT  Manhattan      111          AVENUE A   \n",
              "\n",
              "      ZIPCODE   display_phone CUISINE DESCRIPTION INSPECTION DATE  \\\n",
              "275   10003.0  (646) 510-4786            American      2020-02-11   \n",
              "1500  10128.0  (646) 791-5999                Thai      2022-02-17   \n",
              "3150  10009.0  (212) 982-9533      Latin American      2022-11-03   \n",
              "\n",
              "                                               ACTION  ... wine_bars  \\\n",
              "275   Violations were cited in the following area(s).  ...         0   \n",
              "1500  Violations were cited in the following area(s).  ...         0   \n",
              "3150  Violations were cited in the following area(s).  ...         0   \n",
              "\n",
              "      womenscloth wraps delivery pickup  restaurant_reservation  num_of_cat  \\\n",
              "275             0     0        1      1                       1           3   \n",
              "1500            0     0        1      1                       0           3   \n",
              "3150            0     0        1      1                       0           3   \n",
              "\n",
              "      mainstream_category rare_category price_value  \n",
              "275                     1             0         3.0  \n",
              "1500                    1             0         2.0  \n",
              "3150                    1             0         2.0  \n",
              "\n",
              "[3 rows x 293 columns]"
            ],
            "text/html": [
              "\n",
              "  <div id=\"df-97113789-4e07-499b-b75e-ab9cb2f14567\">\n",
              "    <div class=\"colab-df-container\">\n",
              "      <div>\n",
              "<style scoped>\n",
              "    .dataframe tbody tr th:only-of-type {\n",
              "        vertical-align: middle;\n",
              "    }\n",
              "\n",
              "    .dataframe tbody tr th {\n",
              "        vertical-align: top;\n",
              "    }\n",
              "\n",
              "    .dataframe thead th {\n",
              "        text-align: right;\n",
              "    }\n",
              "</style>\n",
              "<table border=\"1\" class=\"dataframe\">\n",
              "  <thead>\n",
              "    <tr style=\"text-align: right;\">\n",
              "      <th></th>\n",
              "      <th>CAMIS</th>\n",
              "      <th>DBA</th>\n",
              "      <th>BORO</th>\n",
              "      <th>BUILDING</th>\n",
              "      <th>STREET</th>\n",
              "      <th>ZIPCODE</th>\n",
              "      <th>display_phone</th>\n",
              "      <th>CUISINE DESCRIPTION</th>\n",
              "      <th>INSPECTION DATE</th>\n",
              "      <th>ACTION</th>\n",
              "      <th>...</th>\n",
              "      <th>wine_bars</th>\n",
              "      <th>womenscloth</th>\n",
              "      <th>wraps</th>\n",
              "      <th>delivery</th>\n",
              "      <th>pickup</th>\n",
              "      <th>restaurant_reservation</th>\n",
              "      <th>num_of_cat</th>\n",
              "      <th>mainstream_category</th>\n",
              "      <th>rare_category</th>\n",
              "      <th>price_value</th>\n",
              "    </tr>\n",
              "  </thead>\n",
              "  <tbody>\n",
              "    <tr>\n",
              "      <th>275</th>\n",
              "      <td>50074726</td>\n",
              "      <td>BEETLE HOUSE</td>\n",
              "      <td>Manhattan</td>\n",
              "      <td>308</td>\n",
              "      <td>EAST    6 STREET</td>\n",
              "      <td>10003.0</td>\n",
              "      <td>(646) 510-4786</td>\n",
              "      <td>American</td>\n",
              "      <td>2020-02-11</td>\n",
              "      <td>Violations were cited in the following area(s).</td>\n",
              "      <td>...</td>\n",
              "      <td>0</td>\n",
              "      <td>0</td>\n",
              "      <td>0</td>\n",
              "      <td>1</td>\n",
              "      <td>1</td>\n",
              "      <td>1</td>\n",
              "      <td>3</td>\n",
              "      <td>1</td>\n",
              "      <td>0</td>\n",
              "      <td>3.0</td>\n",
              "    </tr>\n",
              "    <tr>\n",
              "      <th>1500</th>\n",
              "      <td>50091908</td>\n",
              "      <td>KRUA THAI KITCHEN</td>\n",
              "      <td>Manhattan</td>\n",
              "      <td>1764</td>\n",
              "      <td>1 AVENUE</td>\n",
              "      <td>10128.0</td>\n",
              "      <td>(646) 791-5999</td>\n",
              "      <td>Thai</td>\n",
              "      <td>2022-02-17</td>\n",
              "      <td>Violations were cited in the following area(s).</td>\n",
              "      <td>...</td>\n",
              "      <td>0</td>\n",
              "      <td>0</td>\n",
              "      <td>0</td>\n",
              "      <td>1</td>\n",
              "      <td>1</td>\n",
              "      <td>0</td>\n",
              "      <td>3</td>\n",
              "      <td>1</td>\n",
              "      <td>0</td>\n",
              "      <td>2.0</td>\n",
              "    </tr>\n",
              "    <tr>\n",
              "      <th>3150</th>\n",
              "      <td>40983698</td>\n",
              "      <td>YUCA BAR &amp; RESTAURANT</td>\n",
              "      <td>Manhattan</td>\n",
              "      <td>111</td>\n",
              "      <td>AVENUE A</td>\n",
              "      <td>10009.0</td>\n",
              "      <td>(212) 982-9533</td>\n",
              "      <td>Latin American</td>\n",
              "      <td>2022-11-03</td>\n",
              "      <td>Violations were cited in the following area(s).</td>\n",
              "      <td>...</td>\n",
              "      <td>0</td>\n",
              "      <td>0</td>\n",
              "      <td>0</td>\n",
              "      <td>1</td>\n",
              "      <td>1</td>\n",
              "      <td>0</td>\n",
              "      <td>3</td>\n",
              "      <td>1</td>\n",
              "      <td>0</td>\n",
              "      <td>2.0</td>\n",
              "    </tr>\n",
              "  </tbody>\n",
              "</table>\n",
              "<p>3 rows × 293 columns</p>\n",
              "</div>\n",
              "      <button class=\"colab-df-convert\" onclick=\"convertToInteractive('df-97113789-4e07-499b-b75e-ab9cb2f14567')\"\n",
              "              title=\"Convert this dataframe to an interactive table.\"\n",
              "              style=\"display:none;\">\n",
              "        \n",
              "  <svg xmlns=\"http://www.w3.org/2000/svg\" height=\"24px\"viewBox=\"0 0 24 24\"\n",
              "       width=\"24px\">\n",
              "    <path d=\"M0 0h24v24H0V0z\" fill=\"none\"/>\n",
              "    <path d=\"M18.56 5.44l.94 2.06.94-2.06 2.06-.94-2.06-.94-.94-2.06-.94 2.06-2.06.94zm-11 1L8.5 8.5l.94-2.06 2.06-.94-2.06-.94L8.5 2.5l-.94 2.06-2.06.94zm10 10l.94 2.06.94-2.06 2.06-.94-2.06-.94-.94-2.06-.94 2.06-2.06.94z\"/><path d=\"M17.41 7.96l-1.37-1.37c-.4-.4-.92-.59-1.43-.59-.52 0-1.04.2-1.43.59L10.3 9.45l-7.72 7.72c-.78.78-.78 2.05 0 2.83L4 21.41c.39.39.9.59 1.41.59.51 0 1.02-.2 1.41-.59l7.78-7.78 2.81-2.81c.8-.78.8-2.07 0-2.86zM5.41 20L4 18.59l7.72-7.72 1.47 1.35L5.41 20z\"/>\n",
              "  </svg>\n",
              "      </button>\n",
              "      \n",
              "  <style>\n",
              "    .colab-df-container {\n",
              "      display:flex;\n",
              "      flex-wrap:wrap;\n",
              "      gap: 12px;\n",
              "    }\n",
              "\n",
              "    .colab-df-convert {\n",
              "      background-color: #E8F0FE;\n",
              "      border: none;\n",
              "      border-radius: 50%;\n",
              "      cursor: pointer;\n",
              "      display: none;\n",
              "      fill: #1967D2;\n",
              "      height: 32px;\n",
              "      padding: 0 0 0 0;\n",
              "      width: 32px;\n",
              "    }\n",
              "\n",
              "    .colab-df-convert:hover {\n",
              "      background-color: #E2EBFA;\n",
              "      box-shadow: 0px 1px 2px rgba(60, 64, 67, 0.3), 0px 1px 3px 1px rgba(60, 64, 67, 0.15);\n",
              "      fill: #174EA6;\n",
              "    }\n",
              "\n",
              "    [theme=dark] .colab-df-convert {\n",
              "      background-color: #3B4455;\n",
              "      fill: #D2E3FC;\n",
              "    }\n",
              "\n",
              "    [theme=dark] .colab-df-convert:hover {\n",
              "      background-color: #434B5C;\n",
              "      box-shadow: 0px 1px 3px 1px rgba(0, 0, 0, 0.15);\n",
              "      filter: drop-shadow(0px 1px 2px rgba(0, 0, 0, 0.3));\n",
              "      fill: #FFFFFF;\n",
              "    }\n",
              "  </style>\n",
              "\n",
              "      <script>\n",
              "        const buttonEl =\n",
              "          document.querySelector('#df-97113789-4e07-499b-b75e-ab9cb2f14567 button.colab-df-convert');\n",
              "        buttonEl.style.display =\n",
              "          google.colab.kernel.accessAllowed ? 'block' : 'none';\n",
              "\n",
              "        async function convertToInteractive(key) {\n",
              "          const element = document.querySelector('#df-97113789-4e07-499b-b75e-ab9cb2f14567');\n",
              "          const dataTable =\n",
              "            await google.colab.kernel.invokeFunction('convertToInteractive',\n",
              "                                                     [key], {});\n",
              "          if (!dataTable) return;\n",
              "\n",
              "          const docLinkHtml = 'Like what you see? Visit the ' +\n",
              "            '<a target=\"_blank\" href=https://colab.research.google.com/notebooks/data_table.ipynb>data table notebook</a>'\n",
              "            + ' to learn more about interactive tables.';\n",
              "          element.innerHTML = '';\n",
              "          dataTable['output_type'] = 'display_data';\n",
              "          await google.colab.output.renderOutput(dataTable, element);\n",
              "          const docLink = document.createElement('div');\n",
              "          docLink.innerHTML = docLinkHtml;\n",
              "          element.appendChild(docLink);\n",
              "        }\n",
              "      </script>\n",
              "    </div>\n",
              "  </div>\n",
              "  "
            ]
          },
          "metadata": {},
          "execution_count": 10
        }
      ]
    },
    {
      "cell_type": "markdown",
      "source": [
        "## Hypothesis Testing 1"
      ],
      "metadata": {
        "id": "m0-6LKbHDMpf"
      }
    },
    {
      "cell_type": "code",
      "source": [
        "from scipy import stats # for significance levels and normality\n",
        "import statsmodels.api as sm # for statistical exploration/testing\n",
        "from statsmodels.formula.api import ols # for hypothesis testing\n",
        "from statsmodels.stats.multicomp import pairwise_tukeyhsd # for pairwise comparisons\n",
        "from statsmodels.stats.multicomp import MultiComparison # for multiple comparisons testing"
      ],
      "metadata": {
        "id": "BB_01hnDwYxv"
      },
      "execution_count": null,
      "outputs": []
    },
    {
      "cell_type": "code",
      "source": [
        "score = {1: 0, 1.5: 0, 2:0, 2.5: 0, 3: 0, 3.5:0,4:1,4.5:1,5:1}\n",
        "df_merged['rating_score'] = df_merged['rating'].map(score)\n",
        "\n",
        "# Select data needed for analysis:\n",
        "high_star = df_merged[df_merged['rating_score']==1]['review_count']\n",
        "low_star = df_merged[df_merged['rating_score']==0]['review_count']\n",
        "\n",
        "# Compare mean scores of number of review for high Yelp ratings vs. low Yelp ratings:\n",
        "print('High Score Mean:',high_star.mean())\n",
        "print('Low Score Mean:',low_star.mean())"
      ],
      "metadata": {
        "colab": {
          "base_uri": "https://localhost:8080/"
        },
        "id": "yZ4Ju79DAkA5",
        "outputId": "642d713f-f7d3-4fba-d17f-24ca4c027853"
      },
      "execution_count": null,
      "outputs": [
        {
          "output_type": "stream",
          "name": "stdout",
          "text": [
            "High Score Mean: 399.9136690647482\n",
            "Low Score Mean: 321.2998137802607\n"
          ]
        }
      ]
    },
    {
      "cell_type": "code",
      "source": [
        "print('Are variances equal?:',np.var(high_star) == np.var(low_star))\n",
        "print('Are sample sizes equal?:',len(high_star) == len(low_star))"
      ],
      "metadata": {
        "colab": {
          "base_uri": "https://localhost:8080/"
        },
        "id": "z9_DnvypAoHS",
        "outputId": "ebb7c88e-e130-4272-f592-446553bf21fd"
      },
      "execution_count": null,
      "outputs": [
        {
          "output_type": "stream",
          "name": "stdout",
          "text": [
            "Are variances equal?: False\n",
            "Are sample sizes equal?: False\n"
          ]
        }
      ]
    },
    {
      "cell_type": "code",
      "source": [
        "result = stats.ttest_ind(high_star, low_star, equal_var = False) # 1-tailed Welch's t-test\n",
        "print('Reject Null Hypothesis' if result[1]/2<.05 else print('Failed to Reject Null Hypothesis'))\n",
        "print('t-statistic:',result[0],'p-value:',result[1]/2)"
      ],
      "metadata": {
        "colab": {
          "base_uri": "https://localhost:8080/"
        },
        "id": "7mAT03wxAxMq",
        "outputId": "bea713ce-0ca3-43d1-cd08-ea582f900a49"
      },
      "execution_count": null,
      "outputs": [
        {
          "output_type": "stream",
          "name": "stdout",
          "text": [
            "Reject Null Hypothesis\n",
            "t-statistic: 5.766664527846853 p-value: 4.455606915244771e-09\n"
          ]
        }
      ]
    },
    {
      "cell_type": "markdown",
      "source": [
        "We end up with a very low p-value that is less than our alpha value of .05. This value is statistically significant and gives a strong case against our null hypothesis. Therefore, we would reject our null hypothesis and say that having a high Yelp rating does lead to a greater number of reviews being written compared to restaurants with low ratings.  \n"
      ],
      "metadata": {
        "id": "dRGJYJUzDJ_d"
      }
    },
    {
      "cell_type": "code",
      "source": [
        "def Cohen_d(group1, group2):\n",
        "    '''This function takes in two groups of data and calculates the Cohen's d value between them.'''\n",
        "\n",
        "    diff = group1.mean() - group2.mean()\n",
        "\n",
        "    n1, n2 = len(group1), len(group2)\n",
        "    var1 = group1.var()\n",
        "    var2 = group2.var()\n",
        "\n",
        "    # Calculate the pooled threshold\n",
        "    pooled_var = (n1 * var1 + n2 * var2) / (n1 + n2)\n",
        "    \n",
        "    # Calculate Cohen's d statistic\n",
        "    d = diff / np.sqrt(pooled_var)\n",
        "    \n",
        "    return d"
      ],
      "metadata": {
        "id": "dymlGcJDDVnM"
      },
      "execution_count": null,
      "outputs": []
    },
    {
      "cell_type": "code",
      "source": [
        "Cohen_d(high_star,low_star)"
      ],
      "metadata": {
        "colab": {
          "base_uri": "https://localhost:8080/"
        },
        "id": "wcmkZwZbDdHR",
        "outputId": "a532b0a6-fc57-4679-8320-6e567bcb8c31"
      },
      "execution_count": null,
      "outputs": [
        {
          "output_type": "execute_result",
          "data": {
            "text/plain": [
              "0.19016885047345125"
            ]
          },
          "metadata": {},
          "execution_count": 16
        }
      ]
    },
    {
      "cell_type": "markdown",
      "source": [
        "Small effect on the number of reviews"
      ],
      "metadata": {
        "id": "Ej5-DIxaDjcM"
      }
    },
    {
      "cell_type": "markdown",
      "source": [
        "## Hypothesis 2"
      ],
      "metadata": {
        "id": "joSJbD5lDo_C"
      }
    },
    {
      "cell_type": "code",
      "source": [
        "# Select only data that has an actual inspection grade of A, B, or C.\n",
        "df_merged_temp = df_merged.loc[df_merged['GRADE'].isin([5,4,3])].copy()\n",
        "\n",
        "# Select data needed for analysis:\n",
        "high_grade = df_merged_temp[df_merged_temp['GRADE']== 5]['review_count']\n",
        "low_grade = df_merged_temp[df_merged_temp['GRADE']!= 5]['review_count']\n",
        "\n",
        "# Compare mean scores of number of reviews for high Yelp ratings vs. low Yelp ratings:\n",
        "print('High Grade Mean:',high_grade.mean())\n",
        "print('Low Grade Mean:',low_grade.mean())"
      ],
      "metadata": {
        "colab": {
          "base_uri": "https://localhost:8080/"
        },
        "id": "wMWXySY7Drkn",
        "outputId": "4f2ce6ac-b62a-4f28-8cf6-5b7c5d8056e1"
      },
      "execution_count": null,
      "outputs": [
        {
          "output_type": "stream",
          "name": "stdout",
          "text": [
            "High Grade Mean: 383.8232346241458\n",
            "Low Grade Mean: 341.9431818181818\n"
          ]
        }
      ]
    },
    {
      "cell_type": "code",
      "source": [
        "# Test whether variances and sample size are equal:\n",
        "print('Are variances equal?:',np.var(high_grade) == np.var(low_grade))\n",
        "print('Are sample sizes equal?:',len(high_grade) == len(low_grade))"
      ],
      "metadata": {
        "colab": {
          "base_uri": "https://localhost:8080/"
        },
        "id": "LNOZAmz0D4k7",
        "outputId": "c45ceda0-197d-4f0c-fe80-e14d37549d23"
      },
      "execution_count": null,
      "outputs": [
        {
          "output_type": "stream",
          "name": "stdout",
          "text": [
            "Are variances equal?: False\n",
            "Are sample sizes equal?: False\n"
          ]
        }
      ]
    },
    {
      "cell_type": "code",
      "source": [
        "result2 = stats.ttest_ind(high_grade, low_grade, equal_var = False) # 1-tailed Welch's t-test\n",
        "print('Reject Null Hypothesis' if result2[1]/2<.05 else print('Failed to Reject Null Hypothesis'))\n",
        "print('t-statistic:',result2[0],'p-value:',result2[1]/2)"
      ],
      "metadata": {
        "colab": {
          "base_uri": "https://localhost:8080/"
        },
        "id": "M6vMfCFfD8S1",
        "outputId": "d0cf4818-a163-433f-db73-67e7801f68b3"
      },
      "execution_count": null,
      "outputs": [
        {
          "output_type": "stream",
          "name": "stdout",
          "text": [
            "Reject Null Hypothesis\n",
            "t-statistic: 1.6921641647982297 p-value: 0.04594956376902698\n"
          ]
        }
      ]
    },
    {
      "cell_type": "markdown",
      "source": [
        "Meaningful relationship between Number of Yelp reviews and Grade"
      ],
      "metadata": {
        "id": "5DdfxwGeERHh"
      }
    },
    {
      "cell_type": "code",
      "source": [
        "Cohen_d(high_grade,low_grade)"
      ],
      "metadata": {
        "colab": {
          "base_uri": "https://localhost:8080/"
        },
        "id": "TdUMYobCEZUU",
        "outputId": "8e18a5de-383f-42ef-809a-39f857e418eb"
      },
      "execution_count": null,
      "outputs": [
        {
          "output_type": "execute_result",
          "data": {
            "text/plain": [
              "0.09472896252308152"
            ]
          },
          "metadata": {},
          "execution_count": 22
        }
      ]
    },
    {
      "cell_type": "markdown",
      "source": [
        "## Hypothesis 3"
      ],
      "metadata": {
        "id": "myRAWZn4EreG"
      }
    },
    {
      "cell_type": "code",
      "source": [
        "df_merged.rename(columns={'CUISINE DESCRIPTION': 'CUISINE_DESCRIPTION'}, inplace=True)\n",
        "\n",
        "# Perform 2-sided ANOVA test. Use C() when working with categorical data\n",
        "formula1 = 'review_count ~ C(CUISINE_DESCRIPTION)'\n",
        "lm1 = ols(formula1, df_merged).fit()\n",
        "result1 = sm.stats.anova_lm(lm1, typ=2)\n",
        "print(result1)"
      ],
      "metadata": {
        "colab": {
          "base_uri": "https://localhost:8080/"
        },
        "id": "0YY2-dtUEbey",
        "outputId": "f31831fd-5f33-4822-f4c8-779116c5f563"
      },
      "execution_count": null,
      "outputs": [
        {
          "output_type": "stream",
          "name": "stdout",
          "text": [
            "                              sum_sq      df         F        PR(>F)\n",
            "C(CUISINE_DESCRIPTION)  2.889472e+07    74.0  2.340062  1.413331e-09\n",
            "Residual                5.171076e+08  3099.0       NaN           NaN\n"
          ]
        }
      ]
    },
    {
      "cell_type": "code",
      "source": [
        "mc1 = MultiComparison(df_merged['review_count'], df_merged['CUISINE_DESCRIPTION'])\n",
        "mc1_results = mc1.tukeyhsd()\n",
        "\n",
        "# Convert results to a dataframe:\n",
        "tukey_data1 = pd.DataFrame(data=mc1_results._results_table.data[1:], columns = mc1_results._results_table.data[0])\n",
        "\n",
        "# Select only rows where we are rejecting the null hypothesis:\n",
        "tukey_data1 = tukey_data1.loc[tukey_data1['reject']==True]\n",
        "tukey_data1"
      ],
      "metadata": {
        "colab": {
          "base_uri": "https://localhost:8080/",
          "height": 390
        },
        "id": "gfW6O7YDEt8K",
        "outputId": "51393db5-22f1-464b-b65c-a64c57a6191f"
      },
      "execution_count": null,
      "outputs": [
        {
          "output_type": "execute_result",
          "data": {
            "text/plain": [
              "          group1      group2  meandiff   p-adj     lower     upper  reject\n",
              "966      Chicken     Italian  271.4662  0.0311    7.8712  535.0613    True\n",
              "970      Chicken      Korean  417.2023  0.0004   85.2115  749.1932    True\n",
              "989      Chicken  Sandwiches  437.9792  0.0028   61.4066  814.5517    True\n",
              "1025     Chinese     Italian  171.8218  0.0021   25.9384  317.7053    True\n",
              "1029     Chinese      Korean  317.5579  0.0003   68.5247  566.5912    True\n",
              "1048     Chinese  Sandwiches  338.3348  0.0083   32.3830  644.2866    True\n",
              "1196  Coffee/Tea     Italian  230.9037  0.0080   22.4902  439.3172    True\n",
              "1200  Coffee/Tea      Korean  376.6398  0.0002   86.5161  666.7635    True\n",
              "1219  Coffee/Tea  Sandwiches  397.4167  0.0025   57.1804  737.6529    True\n",
              "2193      Korean       Pizza -286.7605  0.0121 -551.0394  -22.4815    True\n",
              "2197      Korean      Salads -402.3514  0.0494 -804.3991   -0.3036    True"
            ],
            "text/html": [
              "\n",
              "  <div id=\"df-33a9780b-923a-42b3-bb6e-abf05410c855\">\n",
              "    <div class=\"colab-df-container\">\n",
              "      <div>\n",
              "<style scoped>\n",
              "    .dataframe tbody tr th:only-of-type {\n",
              "        vertical-align: middle;\n",
              "    }\n",
              "\n",
              "    .dataframe tbody tr th {\n",
              "        vertical-align: top;\n",
              "    }\n",
              "\n",
              "    .dataframe thead th {\n",
              "        text-align: right;\n",
              "    }\n",
              "</style>\n",
              "<table border=\"1\" class=\"dataframe\">\n",
              "  <thead>\n",
              "    <tr style=\"text-align: right;\">\n",
              "      <th></th>\n",
              "      <th>group1</th>\n",
              "      <th>group2</th>\n",
              "      <th>meandiff</th>\n",
              "      <th>p-adj</th>\n",
              "      <th>lower</th>\n",
              "      <th>upper</th>\n",
              "      <th>reject</th>\n",
              "    </tr>\n",
              "  </thead>\n",
              "  <tbody>\n",
              "    <tr>\n",
              "      <th>966</th>\n",
              "      <td>Chicken</td>\n",
              "      <td>Italian</td>\n",
              "      <td>271.4662</td>\n",
              "      <td>0.0311</td>\n",
              "      <td>7.8712</td>\n",
              "      <td>535.0613</td>\n",
              "      <td>True</td>\n",
              "    </tr>\n",
              "    <tr>\n",
              "      <th>970</th>\n",
              "      <td>Chicken</td>\n",
              "      <td>Korean</td>\n",
              "      <td>417.2023</td>\n",
              "      <td>0.0004</td>\n",
              "      <td>85.2115</td>\n",
              "      <td>749.1932</td>\n",
              "      <td>True</td>\n",
              "    </tr>\n",
              "    <tr>\n",
              "      <th>989</th>\n",
              "      <td>Chicken</td>\n",
              "      <td>Sandwiches</td>\n",
              "      <td>437.9792</td>\n",
              "      <td>0.0028</td>\n",
              "      <td>61.4066</td>\n",
              "      <td>814.5517</td>\n",
              "      <td>True</td>\n",
              "    </tr>\n",
              "    <tr>\n",
              "      <th>1025</th>\n",
              "      <td>Chinese</td>\n",
              "      <td>Italian</td>\n",
              "      <td>171.8218</td>\n",
              "      <td>0.0021</td>\n",
              "      <td>25.9384</td>\n",
              "      <td>317.7053</td>\n",
              "      <td>True</td>\n",
              "    </tr>\n",
              "    <tr>\n",
              "      <th>1029</th>\n",
              "      <td>Chinese</td>\n",
              "      <td>Korean</td>\n",
              "      <td>317.5579</td>\n",
              "      <td>0.0003</td>\n",
              "      <td>68.5247</td>\n",
              "      <td>566.5912</td>\n",
              "      <td>True</td>\n",
              "    </tr>\n",
              "    <tr>\n",
              "      <th>1048</th>\n",
              "      <td>Chinese</td>\n",
              "      <td>Sandwiches</td>\n",
              "      <td>338.3348</td>\n",
              "      <td>0.0083</td>\n",
              "      <td>32.3830</td>\n",
              "      <td>644.2866</td>\n",
              "      <td>True</td>\n",
              "    </tr>\n",
              "    <tr>\n",
              "      <th>1196</th>\n",
              "      <td>Coffee/Tea</td>\n",
              "      <td>Italian</td>\n",
              "      <td>230.9037</td>\n",
              "      <td>0.0080</td>\n",
              "      <td>22.4902</td>\n",
              "      <td>439.3172</td>\n",
              "      <td>True</td>\n",
              "    </tr>\n",
              "    <tr>\n",
              "      <th>1200</th>\n",
              "      <td>Coffee/Tea</td>\n",
              "      <td>Korean</td>\n",
              "      <td>376.6398</td>\n",
              "      <td>0.0002</td>\n",
              "      <td>86.5161</td>\n",
              "      <td>666.7635</td>\n",
              "      <td>True</td>\n",
              "    </tr>\n",
              "    <tr>\n",
              "      <th>1219</th>\n",
              "      <td>Coffee/Tea</td>\n",
              "      <td>Sandwiches</td>\n",
              "      <td>397.4167</td>\n",
              "      <td>0.0025</td>\n",
              "      <td>57.1804</td>\n",
              "      <td>737.6529</td>\n",
              "      <td>True</td>\n",
              "    </tr>\n",
              "    <tr>\n",
              "      <th>2193</th>\n",
              "      <td>Korean</td>\n",
              "      <td>Pizza</td>\n",
              "      <td>-286.7605</td>\n",
              "      <td>0.0121</td>\n",
              "      <td>-551.0394</td>\n",
              "      <td>-22.4815</td>\n",
              "      <td>True</td>\n",
              "    </tr>\n",
              "    <tr>\n",
              "      <th>2197</th>\n",
              "      <td>Korean</td>\n",
              "      <td>Salads</td>\n",
              "      <td>-402.3514</td>\n",
              "      <td>0.0494</td>\n",
              "      <td>-804.3991</td>\n",
              "      <td>-0.3036</td>\n",
              "      <td>True</td>\n",
              "    </tr>\n",
              "  </tbody>\n",
              "</table>\n",
              "</div>\n",
              "      <button class=\"colab-df-convert\" onclick=\"convertToInteractive('df-33a9780b-923a-42b3-bb6e-abf05410c855')\"\n",
              "              title=\"Convert this dataframe to an interactive table.\"\n",
              "              style=\"display:none;\">\n",
              "        \n",
              "  <svg xmlns=\"http://www.w3.org/2000/svg\" height=\"24px\"viewBox=\"0 0 24 24\"\n",
              "       width=\"24px\">\n",
              "    <path d=\"M0 0h24v24H0V0z\" fill=\"none\"/>\n",
              "    <path d=\"M18.56 5.44l.94 2.06.94-2.06 2.06-.94-2.06-.94-.94-2.06-.94 2.06-2.06.94zm-11 1L8.5 8.5l.94-2.06 2.06-.94-2.06-.94L8.5 2.5l-.94 2.06-2.06.94zm10 10l.94 2.06.94-2.06 2.06-.94-2.06-.94-.94-2.06-.94 2.06-2.06.94z\"/><path d=\"M17.41 7.96l-1.37-1.37c-.4-.4-.92-.59-1.43-.59-.52 0-1.04.2-1.43.59L10.3 9.45l-7.72 7.72c-.78.78-.78 2.05 0 2.83L4 21.41c.39.39.9.59 1.41.59.51 0 1.02-.2 1.41-.59l7.78-7.78 2.81-2.81c.8-.78.8-2.07 0-2.86zM5.41 20L4 18.59l7.72-7.72 1.47 1.35L5.41 20z\"/>\n",
              "  </svg>\n",
              "      </button>\n",
              "      \n",
              "  <style>\n",
              "    .colab-df-container {\n",
              "      display:flex;\n",
              "      flex-wrap:wrap;\n",
              "      gap: 12px;\n",
              "    }\n",
              "\n",
              "    .colab-df-convert {\n",
              "      background-color: #E8F0FE;\n",
              "      border: none;\n",
              "      border-radius: 50%;\n",
              "      cursor: pointer;\n",
              "      display: none;\n",
              "      fill: #1967D2;\n",
              "      height: 32px;\n",
              "      padding: 0 0 0 0;\n",
              "      width: 32px;\n",
              "    }\n",
              "\n",
              "    .colab-df-convert:hover {\n",
              "      background-color: #E2EBFA;\n",
              "      box-shadow: 0px 1px 2px rgba(60, 64, 67, 0.3), 0px 1px 3px 1px rgba(60, 64, 67, 0.15);\n",
              "      fill: #174EA6;\n",
              "    }\n",
              "\n",
              "    [theme=dark] .colab-df-convert {\n",
              "      background-color: #3B4455;\n",
              "      fill: #D2E3FC;\n",
              "    }\n",
              "\n",
              "    [theme=dark] .colab-df-convert:hover {\n",
              "      background-color: #434B5C;\n",
              "      box-shadow: 0px 1px 3px 1px rgba(0, 0, 0, 0.15);\n",
              "      filter: drop-shadow(0px 1px 2px rgba(0, 0, 0, 0.3));\n",
              "      fill: #FFFFFF;\n",
              "    }\n",
              "  </style>\n",
              "\n",
              "      <script>\n",
              "        const buttonEl =\n",
              "          document.querySelector('#df-33a9780b-923a-42b3-bb6e-abf05410c855 button.colab-df-convert');\n",
              "        buttonEl.style.display =\n",
              "          google.colab.kernel.accessAllowed ? 'block' : 'none';\n",
              "\n",
              "        async function convertToInteractive(key) {\n",
              "          const element = document.querySelector('#df-33a9780b-923a-42b3-bb6e-abf05410c855');\n",
              "          const dataTable =\n",
              "            await google.colab.kernel.invokeFunction('convertToInteractive',\n",
              "                                                     [key], {});\n",
              "          if (!dataTable) return;\n",
              "\n",
              "          const docLinkHtml = 'Like what you see? Visit the ' +\n",
              "            '<a target=\"_blank\" href=https://colab.research.google.com/notebooks/data_table.ipynb>data table notebook</a>'\n",
              "            + ' to learn more about interactive tables.';\n",
              "          element.innerHTML = '';\n",
              "          dataTable['output_type'] = 'display_data';\n",
              "          await google.colab.output.renderOutput(dataTable, element);\n",
              "          const docLink = document.createElement('div');\n",
              "          docLink.innerHTML = docLinkHtml;\n",
              "          element.appendChild(docLink);\n",
              "        }\n",
              "      </script>\n",
              "    </div>\n",
              "  </div>\n",
              "  "
            ]
          },
          "metadata": {},
          "execution_count": 24
        }
      ]
    },
    {
      "cell_type": "code",
      "source": [
        "def multi_cohen_d(values_list, data_column, value, column_label1, column_label2):\n",
        "    '''This function will evaluate Cohen's d between multiple identified pairs of data.\n",
        "    Inputs:\n",
        "        - values_list: list containing lists of each pair of values to evaluate\n",
        "        - data_column: column from full dataset that is used to match with the data in values_list \n",
        "        - value: column from full dataset that includes the actual data values you want to extract\n",
        "        - column_label1: label for the column of the dataframe we are creating that includes group1\n",
        "        - column_label2: label for the column of the dataframe we are creating that includes group2\n",
        "    \n",
        "    Returns:\n",
        "        - A dataframe listing the components of each group and the corresponding Cohen's d'''\n",
        "    \n",
        "    d = pd.DataFrame(columns = [column_label1,column_label2,\"Cohen's d\"], index = None)\n",
        "    for x in values_list:\n",
        "        cohen = Cohen_d(df_merged[df_merged[data_column]==x[0]][value],\n",
        "                        df_merged[df_merged[data_column]==x[1]][value])\n",
        "        d = d.append({column_label1:x[0],column_label2:x[1], \"Cohen's d\":cohen}, ignore_index=True)\n",
        "    return d\n",
        "\n",
        "# Identify the values we want to utilize to find Cohen's d:\n",
        "cuisine_list = tukey_data1.loc[tukey_data1['reject']==True].iloc[:,:2].values.tolist()\n",
        "\n",
        "# Run function to see all Cohen's d values:\n",
        "print(\"Cohen's d Chart:\")\n",
        "multi_cohen_d(cuisine_list, 'CUISINE_DESCRIPTION', 'review_count','Cuisine1', 'Cuisine2')"
      ],
      "metadata": {
        "colab": {
          "base_uri": "https://localhost:8080/",
          "height": 407
        },
        "id": "1CJkRSx0Ewql",
        "outputId": "b0738387-de2b-465d-c9b3-b08b68ee704c"
      },
      "execution_count": null,
      "outputs": [
        {
          "output_type": "stream",
          "name": "stdout",
          "text": [
            "Cohen's d Chart:\n"
          ]
        },
        {
          "output_type": "execute_result",
          "data": {
            "text/plain": [
              "      Cuisine1    Cuisine2  Cohen's d\n",
              "0      Chicken     Italian  -0.902856\n",
              "1      Chicken      Korean  -1.312161\n",
              "2      Chicken  Sandwiches  -0.271692\n",
              "3      Chinese     Italian  -0.561518\n",
              "4      Chinese      Korean  -1.001086\n",
              "5      Chinese  Sandwiches  -0.359970\n",
              "6   Coffee/Tea     Italian  -0.782089\n",
              "7   Coffee/Tea      Korean  -1.263127\n",
              "8   Coffee/Tea  Sandwiches  -0.293388\n",
              "9       Korean       Pizza   0.890661\n",
              "10      Korean      Salads   1.299907"
            ],
            "text/html": [
              "\n",
              "  <div id=\"df-62b60ca8-75d7-4cbe-928c-ed26aa8f9414\">\n",
              "    <div class=\"colab-df-container\">\n",
              "      <div>\n",
              "<style scoped>\n",
              "    .dataframe tbody tr th:only-of-type {\n",
              "        vertical-align: middle;\n",
              "    }\n",
              "\n",
              "    .dataframe tbody tr th {\n",
              "        vertical-align: top;\n",
              "    }\n",
              "\n",
              "    .dataframe thead th {\n",
              "        text-align: right;\n",
              "    }\n",
              "</style>\n",
              "<table border=\"1\" class=\"dataframe\">\n",
              "  <thead>\n",
              "    <tr style=\"text-align: right;\">\n",
              "      <th></th>\n",
              "      <th>Cuisine1</th>\n",
              "      <th>Cuisine2</th>\n",
              "      <th>Cohen's d</th>\n",
              "    </tr>\n",
              "  </thead>\n",
              "  <tbody>\n",
              "    <tr>\n",
              "      <th>0</th>\n",
              "      <td>Chicken</td>\n",
              "      <td>Italian</td>\n",
              "      <td>-0.902856</td>\n",
              "    </tr>\n",
              "    <tr>\n",
              "      <th>1</th>\n",
              "      <td>Chicken</td>\n",
              "      <td>Korean</td>\n",
              "      <td>-1.312161</td>\n",
              "    </tr>\n",
              "    <tr>\n",
              "      <th>2</th>\n",
              "      <td>Chicken</td>\n",
              "      <td>Sandwiches</td>\n",
              "      <td>-0.271692</td>\n",
              "    </tr>\n",
              "    <tr>\n",
              "      <th>3</th>\n",
              "      <td>Chinese</td>\n",
              "      <td>Italian</td>\n",
              "      <td>-0.561518</td>\n",
              "    </tr>\n",
              "    <tr>\n",
              "      <th>4</th>\n",
              "      <td>Chinese</td>\n",
              "      <td>Korean</td>\n",
              "      <td>-1.001086</td>\n",
              "    </tr>\n",
              "    <tr>\n",
              "      <th>5</th>\n",
              "      <td>Chinese</td>\n",
              "      <td>Sandwiches</td>\n",
              "      <td>-0.359970</td>\n",
              "    </tr>\n",
              "    <tr>\n",
              "      <th>6</th>\n",
              "      <td>Coffee/Tea</td>\n",
              "      <td>Italian</td>\n",
              "      <td>-0.782089</td>\n",
              "    </tr>\n",
              "    <tr>\n",
              "      <th>7</th>\n",
              "      <td>Coffee/Tea</td>\n",
              "      <td>Korean</td>\n",
              "      <td>-1.263127</td>\n",
              "    </tr>\n",
              "    <tr>\n",
              "      <th>8</th>\n",
              "      <td>Coffee/Tea</td>\n",
              "      <td>Sandwiches</td>\n",
              "      <td>-0.293388</td>\n",
              "    </tr>\n",
              "    <tr>\n",
              "      <th>9</th>\n",
              "      <td>Korean</td>\n",
              "      <td>Pizza</td>\n",
              "      <td>0.890661</td>\n",
              "    </tr>\n",
              "    <tr>\n",
              "      <th>10</th>\n",
              "      <td>Korean</td>\n",
              "      <td>Salads</td>\n",
              "      <td>1.299907</td>\n",
              "    </tr>\n",
              "  </tbody>\n",
              "</table>\n",
              "</div>\n",
              "      <button class=\"colab-df-convert\" onclick=\"convertToInteractive('df-62b60ca8-75d7-4cbe-928c-ed26aa8f9414')\"\n",
              "              title=\"Convert this dataframe to an interactive table.\"\n",
              "              style=\"display:none;\">\n",
              "        \n",
              "  <svg xmlns=\"http://www.w3.org/2000/svg\" height=\"24px\"viewBox=\"0 0 24 24\"\n",
              "       width=\"24px\">\n",
              "    <path d=\"M0 0h24v24H0V0z\" fill=\"none\"/>\n",
              "    <path d=\"M18.56 5.44l.94 2.06.94-2.06 2.06-.94-2.06-.94-.94-2.06-.94 2.06-2.06.94zm-11 1L8.5 8.5l.94-2.06 2.06-.94-2.06-.94L8.5 2.5l-.94 2.06-2.06.94zm10 10l.94 2.06.94-2.06 2.06-.94-2.06-.94-.94-2.06-.94 2.06-2.06.94z\"/><path d=\"M17.41 7.96l-1.37-1.37c-.4-.4-.92-.59-1.43-.59-.52 0-1.04.2-1.43.59L10.3 9.45l-7.72 7.72c-.78.78-.78 2.05 0 2.83L4 21.41c.39.39.9.59 1.41.59.51 0 1.02-.2 1.41-.59l7.78-7.78 2.81-2.81c.8-.78.8-2.07 0-2.86zM5.41 20L4 18.59l7.72-7.72 1.47 1.35L5.41 20z\"/>\n",
              "  </svg>\n",
              "      </button>\n",
              "      \n",
              "  <style>\n",
              "    .colab-df-container {\n",
              "      display:flex;\n",
              "      flex-wrap:wrap;\n",
              "      gap: 12px;\n",
              "    }\n",
              "\n",
              "    .colab-df-convert {\n",
              "      background-color: #E8F0FE;\n",
              "      border: none;\n",
              "      border-radius: 50%;\n",
              "      cursor: pointer;\n",
              "      display: none;\n",
              "      fill: #1967D2;\n",
              "      height: 32px;\n",
              "      padding: 0 0 0 0;\n",
              "      width: 32px;\n",
              "    }\n",
              "\n",
              "    .colab-df-convert:hover {\n",
              "      background-color: #E2EBFA;\n",
              "      box-shadow: 0px 1px 2px rgba(60, 64, 67, 0.3), 0px 1px 3px 1px rgba(60, 64, 67, 0.15);\n",
              "      fill: #174EA6;\n",
              "    }\n",
              "\n",
              "    [theme=dark] .colab-df-convert {\n",
              "      background-color: #3B4455;\n",
              "      fill: #D2E3FC;\n",
              "    }\n",
              "\n",
              "    [theme=dark] .colab-df-convert:hover {\n",
              "      background-color: #434B5C;\n",
              "      box-shadow: 0px 1px 3px 1px rgba(0, 0, 0, 0.15);\n",
              "      filter: drop-shadow(0px 1px 2px rgba(0, 0, 0, 0.3));\n",
              "      fill: #FFFFFF;\n",
              "    }\n",
              "  </style>\n",
              "\n",
              "      <script>\n",
              "        const buttonEl =\n",
              "          document.querySelector('#df-62b60ca8-75d7-4cbe-928c-ed26aa8f9414 button.colab-df-convert');\n",
              "        buttonEl.style.display =\n",
              "          google.colab.kernel.accessAllowed ? 'block' : 'none';\n",
              "\n",
              "        async function convertToInteractive(key) {\n",
              "          const element = document.querySelector('#df-62b60ca8-75d7-4cbe-928c-ed26aa8f9414');\n",
              "          const dataTable =\n",
              "            await google.colab.kernel.invokeFunction('convertToInteractive',\n",
              "                                                     [key], {});\n",
              "          if (!dataTable) return;\n",
              "\n",
              "          const docLinkHtml = 'Like what you see? Visit the ' +\n",
              "            '<a target=\"_blank\" href=https://colab.research.google.com/notebooks/data_table.ipynb>data table notebook</a>'\n",
              "            + ' to learn more about interactive tables.';\n",
              "          element.innerHTML = '';\n",
              "          dataTable['output_type'] = 'display_data';\n",
              "          await google.colab.output.renderOutput(dataTable, element);\n",
              "          const docLink = document.createElement('div');\n",
              "          docLink.innerHTML = docLinkHtml;\n",
              "          element.appendChild(docLink);\n",
              "        }\n",
              "      </script>\n",
              "    </div>\n",
              "  </div>\n",
              "  "
            ]
          },
          "metadata": {},
          "execution_count": 25
        }
      ]
    },
    {
      "cell_type": "code",
      "source": [],
      "metadata": {
        "id": "4sNmjJfGFWWz"
      },
      "execution_count": null,
      "outputs": []
    },
    {
      "cell_type": "markdown",
      "source": [
        "## Hypothesis 4"
      ],
      "metadata": {
        "id": "JVoMiO9OFZnn"
      }
    },
    {
      "cell_type": "code",
      "source": [
        "# Select data needed for analysis:\n",
        "high_price = df_merged[df_merged['price_value']== (4 or 3)]['review_count']\n",
        "low_price = df_merged[df_merged['rating_score']!= (4 or 3)]['review_count']\n",
        "\n",
        "# Compare mean scores of number of review for high Yelp ratings vs. low Yelp ratings:\n",
        "print('High Score Mean:',high_price.mean())\n",
        "print('Low Score Mean:',low_price.mean())"
      ],
      "metadata": {
        "colab": {
          "base_uri": "https://localhost:8080/"
        },
        "id": "2kskDTSTFbhV",
        "outputId": "81a72af2-9bc8-4acb-9358-03e532744d0a"
      },
      "execution_count": null,
      "outputs": [
        {
          "output_type": "stream",
          "name": "stdout",
          "text": [
            "High Score Mean: 554.232\n",
            "Low Score Mean: 371.42281033396347\n"
          ]
        }
      ]
    },
    {
      "cell_type": "code",
      "source": [
        "print('Are variances equal?:',np.var(high_price) == np.var(low_price))\n",
        "print('Are sample sizes equal?:',len(high_price) == len(low_price))"
      ],
      "metadata": {
        "colab": {
          "base_uri": "https://localhost:8080/"
        },
        "id": "t54HSWHmF-Ed",
        "outputId": "1aa1ca03-e5fd-4c79-e037-9c0c9583f4e6"
      },
      "execution_count": null,
      "outputs": [
        {
          "output_type": "stream",
          "name": "stdout",
          "text": [
            "Are variances equal?: False\n",
            "Are sample sizes equal?: False\n"
          ]
        }
      ]
    },
    {
      "cell_type": "code",
      "source": [
        "result3 = stats.ttest_ind(high_price, low_price, equal_var = False) # 1-tailed Welch's t-test\n",
        "print('Reject Null Hypothesis' if result3[1]/2<.05 else print('Failed to Reject Null Hypothesis'))\n",
        "print('t-statistic:',result[0],'p-value:',result3[1]/2)"
      ],
      "metadata": {
        "colab": {
          "base_uri": "https://localhost:8080/"
        },
        "id": "A7OiJrlOGDEN",
        "outputId": "c8493ecc-69fb-4b7f-adbd-e408145ba0ba"
      },
      "execution_count": null,
      "outputs": [
        {
          "output_type": "stream",
          "name": "stdout",
          "text": [
            "Reject Null Hypothesis\n",
            "t-statistic: 5.766664527846853 p-value: 2.3626271571972953e-08\n"
          ]
        }
      ]
    },
    {
      "cell_type": "code",
      "source": [
        "Cohen_d(high_price,low_price)"
      ],
      "metadata": {
        "colab": {
          "base_uri": "https://localhost:8080/"
        },
        "id": "x2YkN6HwGQE9",
        "outputId": "2a9c0c72-fe6f-43c1-d8de-4ad1d8228ba5"
      },
      "execution_count": null,
      "outputs": [
        {
          "output_type": "execute_result",
          "data": {
            "text/plain": [
              "0.4433273791402817"
            ]
          },
          "metadata": {},
          "execution_count": 33
        }
      ]
    },
    {
      "cell_type": "markdown",
      "source": [
        "Hypothesis 5"
      ],
      "metadata": {
        "id": "_9OZsEYnGXAv"
      }
    },
    {
      "cell_type": "code",
      "source": [
        "rare_cat = df_merged[df_merged['rare_category']== 1]['review_count']\n",
        "not_rare_cat = df_merged[df_merged['rare_category']!= 1]['review_count']\n",
        "\n",
        "# Compare mean scores of number of review for high Yelp ratings vs. low Yelp ratings:\n",
        "print('High Score Mean:',rare_cat.mean())\n",
        "print('Low Score Mean:',not_rare_cat.mean())"
      ],
      "metadata": {
        "colab": {
          "base_uri": "https://localhost:8080/"
        },
        "id": "yn-tJON5GY1S",
        "outputId": "952b8bca-a341-45b0-a50e-a9e6382b928e"
      },
      "execution_count": null,
      "outputs": [
        {
          "output_type": "stream",
          "name": "stdout",
          "text": [
            "High Score Mean: 368.4429824561403\n",
            "Low Score Mean: 371.92273730684326\n"
          ]
        }
      ]
    },
    {
      "cell_type": "code",
      "source": [
        "print('Are variances equal?:',np.var(rare_cat) == np.var(not_rare_cat))\n",
        "print('Are sample sizes equal?:',len(rare_cat) == len(not_rare_cat))"
      ],
      "metadata": {
        "colab": {
          "base_uri": "https://localhost:8080/"
        },
        "id": "I_LfJ1MqHqnT",
        "outputId": "1f39a141-b2f1-406a-b3f5-c87ca3b26d23"
      },
      "execution_count": null,
      "outputs": [
        {
          "output_type": "stream",
          "name": "stdout",
          "text": [
            "Are variances equal?: False\n",
            "Are sample sizes equal?: False\n"
          ]
        }
      ]
    },
    {
      "cell_type": "code",
      "source": [
        "result4 = stats.ttest_ind(rare_cat,not_rare_cat, equal_var = False) # 1-tailed Welch's t-test\n",
        "print('Reject Null Hypothesis' if result4[1]/2<.05 else print('Failed to Reject Null Hypothesis'))\n",
        "print('t-statistic:',result[0],'p-value:',result4[1]/2)"
      ],
      "metadata": {
        "colab": {
          "base_uri": "https://localhost:8080/"
        },
        "id": "AolY1z2KHuqJ",
        "outputId": "5338a660-a48c-4b01-87ef-88829f8f0136"
      },
      "execution_count": null,
      "outputs": [
        {
          "output_type": "stream",
          "name": "stdout",
          "text": [
            "Failed to Reject Null Hypothesis\n",
            "None\n",
            "t-statistic: 5.766664527846853 p-value: 0.4206777884956818\n"
          ]
        }
      ]
    }
  ]
}